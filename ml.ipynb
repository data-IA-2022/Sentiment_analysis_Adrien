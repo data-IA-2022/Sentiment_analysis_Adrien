{
 "cells": [
  {
   "cell_type": "code",
   "execution_count": 1,
   "metadata": {},
   "outputs": [],
   "source": [
    "import pandas as pd\n",
    "from sklearn.compose import ColumnTransformer\n",
    "from sklearn.ensemble import RandomForestClassifier\n",
    "from sklearn.impute import SimpleImputer\n",
    "from sklearn.metrics import accuracy_score, confusion_matrix\n",
    "from sklearn.model_selection import GridSearchCV, train_test_split\n",
    "from sklearn.pipeline import Pipeline\n",
    "from sklearn.preprocessing import OneHotEncoder, StandardScaler\n",
    "from sklearn import set_config\n",
    "from sklearn.neighbors import KNeighborsClassifier\n",
    "from sklearn.linear_model import LogisticRegression\n",
    "\n",
    "import pickle\n",
    "from os.path import join"
   ]
  },
  {
   "cell_type": "code",
   "execution_count": 2,
   "metadata": {},
   "outputs": [],
   "source": [
    "df = pd.read_csv(\"Airline Passenger Satisfaction.csv\")"
   ]
  },
  {
   "cell_type": "code",
   "execution_count": 3,
   "metadata": {},
   "outputs": [],
   "source": [
    "y = df[\"Satisfaction\"]\n",
    "\n",
    "df.drop(columns=[\"Satisfaction\", \"id\"], inplace=True)\n",
    "\n",
    "X = df.copy()\n",
    "\n",
    "columns_cat = df.select_dtypes(include=\"object\").columns\n",
    "\n",
    "columns_num = [\"Age\", \"Flight Distance\", \"Departure Delay in Minutes\", \"Arrival Delay in Minutes\"]\n",
    "columns_note = [x for x in df.select_dtypes(exclude=\"object\").columns if x not in columns_num]"
   ]
  },
  {
   "cell_type": "code",
   "execution_count": 4,
   "metadata": {},
   "outputs": [],
   "source": [
    "pipe_cat = OneHotEncoder()\n",
    "\n",
    "pipe_num = Pipeline(\n",
    "    (\n",
    "        ('imputer', SimpleImputer(strategy='median')),\n",
    "        ('scaler', StandardScaler())\n",
    "    )\n",
    ")"
   ]
  },
  {
   "cell_type": "code",
   "execution_count": 5,
   "metadata": {},
   "outputs": [
    {
     "data": {
      "text/html": [
       "<style>#sk-container-id-1 {color: black;background-color: white;}#sk-container-id-1 pre{padding: 0;}#sk-container-id-1 div.sk-toggleable {background-color: white;}#sk-container-id-1 label.sk-toggleable__label {cursor: pointer;display: block;width: 100%;margin-bottom: 0;padding: 0.3em;box-sizing: border-box;text-align: center;}#sk-container-id-1 label.sk-toggleable__label-arrow:before {content: \"▸\";float: left;margin-right: 0.25em;color: #696969;}#sk-container-id-1 label.sk-toggleable__label-arrow:hover:before {color: black;}#sk-container-id-1 div.sk-estimator:hover label.sk-toggleable__label-arrow:before {color: black;}#sk-container-id-1 div.sk-toggleable__content {max-height: 0;max-width: 0;overflow: hidden;text-align: left;background-color: #f0f8ff;}#sk-container-id-1 div.sk-toggleable__content pre {margin: 0.2em;color: black;border-radius: 0.25em;background-color: #f0f8ff;}#sk-container-id-1 input.sk-toggleable__control:checked~div.sk-toggleable__content {max-height: 200px;max-width: 100%;overflow: auto;}#sk-container-id-1 input.sk-toggleable__control:checked~label.sk-toggleable__label-arrow:before {content: \"▾\";}#sk-container-id-1 div.sk-estimator input.sk-toggleable__control:checked~label.sk-toggleable__label {background-color: #d4ebff;}#sk-container-id-1 div.sk-label input.sk-toggleable__control:checked~label.sk-toggleable__label {background-color: #d4ebff;}#sk-container-id-1 input.sk-hidden--visually {border: 0;clip: rect(1px 1px 1px 1px);clip: rect(1px, 1px, 1px, 1px);height: 1px;margin: -1px;overflow: hidden;padding: 0;position: absolute;width: 1px;}#sk-container-id-1 div.sk-estimator {font-family: monospace;background-color: #f0f8ff;border: 1px dotted black;border-radius: 0.25em;box-sizing: border-box;margin-bottom: 0.5em;}#sk-container-id-1 div.sk-estimator:hover {background-color: #d4ebff;}#sk-container-id-1 div.sk-parallel-item::after {content: \"\";width: 100%;border-bottom: 1px solid gray;flex-grow: 1;}#sk-container-id-1 div.sk-label:hover label.sk-toggleable__label {background-color: #d4ebff;}#sk-container-id-1 div.sk-serial::before {content: \"\";position: absolute;border-left: 1px solid gray;box-sizing: border-box;top: 0;bottom: 0;left: 50%;z-index: 0;}#sk-container-id-1 div.sk-serial {display: flex;flex-direction: column;align-items: center;background-color: white;padding-right: 0.2em;padding-left: 0.2em;position: relative;}#sk-container-id-1 div.sk-item {position: relative;z-index: 1;}#sk-container-id-1 div.sk-parallel {display: flex;align-items: stretch;justify-content: center;background-color: white;position: relative;}#sk-container-id-1 div.sk-item::before, #sk-container-id-1 div.sk-parallel-item::before {content: \"\";position: absolute;border-left: 1px solid gray;box-sizing: border-box;top: 0;bottom: 0;left: 50%;z-index: -1;}#sk-container-id-1 div.sk-parallel-item {display: flex;flex-direction: column;z-index: 1;position: relative;background-color: white;}#sk-container-id-1 div.sk-parallel-item:first-child::after {align-self: flex-end;width: 50%;}#sk-container-id-1 div.sk-parallel-item:last-child::after {align-self: flex-start;width: 50%;}#sk-container-id-1 div.sk-parallel-item:only-child::after {width: 0;}#sk-container-id-1 div.sk-dashed-wrapped {border: 1px dashed gray;margin: 0 0.4em 0.5em 0.4em;box-sizing: border-box;padding-bottom: 0.4em;background-color: white;}#sk-container-id-1 div.sk-label label {font-family: monospace;font-weight: bold;display: inline-block;line-height: 1.2em;}#sk-container-id-1 div.sk-label-container {text-align: center;}#sk-container-id-1 div.sk-container {/* jupyter's `normalize.less` sets `[hidden] { display: none; }` but bootstrap.min.css set `[hidden] { display: none !important; }` so we also need the `!important` here to be able to override the default hidden behavior on the sphinx rendered scikit-learn.org. See: https://github.com/scikit-learn/scikit-learn/issues/21755 */display: inline-block !important;position: relative;}#sk-container-id-1 div.sk-text-repr-fallback {display: none;}</style><div id=\"sk-container-id-1\" class=\"sk-top-container\"><div class=\"sk-text-repr-fallback\"><pre>Pipeline(steps=((&#x27;preparation&#x27;,\n",
       "                 ColumnTransformer(transformers=[(&#x27;cat&#x27;, OneHotEncoder(),\n",
       "                                                  Index([&#x27;Gender&#x27;, &#x27;Customer Type&#x27;, &#x27;Type of Travel&#x27;, &#x27;Class&#x27;], dtype=&#x27;object&#x27;)),\n",
       "                                                 (&#x27;num&#x27;,\n",
       "                                                  Pipeline(steps=((&#x27;imputer&#x27;,\n",
       "                                                                   SimpleImputer(strategy=&#x27;median&#x27;)),\n",
       "                                                                  (&#x27;scaler&#x27;,\n",
       "                                                                   StandardScaler()))),\n",
       "                                                  [&#x27;Age&#x27;, &#x27;Flight Distance&#x27;,\n",
       "                                                   &#x27;Departure Delay in Minutes&#x27;,\n",
       "                                                   &#x27;Arrival Delay in Minutes&#x27;]),\n",
       "                                                 (&#x27;notes&#x27;, &#x27;passthrough&#x27;,\n",
       "                                                  [&#x27;Seat comfort&#x27;,\n",
       "                                                   &#x27;Departure/Arrival time &#x27;\n",
       "                                                   &#x27;convenient&#x27;,\n",
       "                                                   &#x27;Food and drink&#x27;,\n",
       "                                                   &#x27;Gate location&#x27;,\n",
       "                                                   &#x27;Inflight wifi service&#x27;,\n",
       "                                                   &#x27;Inflight entertainment&#x27;,\n",
       "                                                   &#x27;Online support&#x27;,\n",
       "                                                   &#x27;Ease of Online booking&#x27;,\n",
       "                                                   &#x27;On-board service&#x27;,\n",
       "                                                   &#x27;Leg room service&#x27;,\n",
       "                                                   &#x27;Baggage handling&#x27;,\n",
       "                                                   &#x27;Checkin service&#x27;,\n",
       "                                                   &#x27;Cleanliness&#x27;,\n",
       "                                                   &#x27;Online boarding&#x27;])])),\n",
       "                (&#x27;model&#x27;, RandomForestClassifier())))</pre><b>In a Jupyter environment, please rerun this cell to show the HTML representation or trust the notebook. <br />On GitHub, the HTML representation is unable to render, please try loading this page with nbviewer.org.</b></div><div class=\"sk-container\" hidden><div class=\"sk-item sk-dashed-wrapped\"><div class=\"sk-label-container\"><div class=\"sk-label sk-toggleable\"><input class=\"sk-toggleable__control sk-hidden--visually\" id=\"sk-estimator-id-1\" type=\"checkbox\" ><label for=\"sk-estimator-id-1\" class=\"sk-toggleable__label sk-toggleable__label-arrow\">Pipeline</label><div class=\"sk-toggleable__content\"><pre>Pipeline(steps=((&#x27;preparation&#x27;,\n",
       "                 ColumnTransformer(transformers=[(&#x27;cat&#x27;, OneHotEncoder(),\n",
       "                                                  Index([&#x27;Gender&#x27;, &#x27;Customer Type&#x27;, &#x27;Type of Travel&#x27;, &#x27;Class&#x27;], dtype=&#x27;object&#x27;)),\n",
       "                                                 (&#x27;num&#x27;,\n",
       "                                                  Pipeline(steps=((&#x27;imputer&#x27;,\n",
       "                                                                   SimpleImputer(strategy=&#x27;median&#x27;)),\n",
       "                                                                  (&#x27;scaler&#x27;,\n",
       "                                                                   StandardScaler()))),\n",
       "                                                  [&#x27;Age&#x27;, &#x27;Flight Distance&#x27;,\n",
       "                                                   &#x27;Departure Delay in Minutes&#x27;,\n",
       "                                                   &#x27;Arrival Delay in Minutes&#x27;]),\n",
       "                                                 (&#x27;notes&#x27;, &#x27;passthrough&#x27;,\n",
       "                                                  [&#x27;Seat comfort&#x27;,\n",
       "                                                   &#x27;Departure/Arrival time &#x27;\n",
       "                                                   &#x27;convenient&#x27;,\n",
       "                                                   &#x27;Food and drink&#x27;,\n",
       "                                                   &#x27;Gate location&#x27;,\n",
       "                                                   &#x27;Inflight wifi service&#x27;,\n",
       "                                                   &#x27;Inflight entertainment&#x27;,\n",
       "                                                   &#x27;Online support&#x27;,\n",
       "                                                   &#x27;Ease of Online booking&#x27;,\n",
       "                                                   &#x27;On-board service&#x27;,\n",
       "                                                   &#x27;Leg room service&#x27;,\n",
       "                                                   &#x27;Baggage handling&#x27;,\n",
       "                                                   &#x27;Checkin service&#x27;,\n",
       "                                                   &#x27;Cleanliness&#x27;,\n",
       "                                                   &#x27;Online boarding&#x27;])])),\n",
       "                (&#x27;model&#x27;, RandomForestClassifier())))</pre></div></div></div><div class=\"sk-serial\"><div class=\"sk-item sk-dashed-wrapped\"><div class=\"sk-label-container\"><div class=\"sk-label sk-toggleable\"><input class=\"sk-toggleable__control sk-hidden--visually\" id=\"sk-estimator-id-2\" type=\"checkbox\" ><label for=\"sk-estimator-id-2\" class=\"sk-toggleable__label sk-toggleable__label-arrow\">preparation: ColumnTransformer</label><div class=\"sk-toggleable__content\"><pre>ColumnTransformer(transformers=[(&#x27;cat&#x27;, OneHotEncoder(),\n",
       "                                 Index([&#x27;Gender&#x27;, &#x27;Customer Type&#x27;, &#x27;Type of Travel&#x27;, &#x27;Class&#x27;], dtype=&#x27;object&#x27;)),\n",
       "                                (&#x27;num&#x27;,\n",
       "                                 Pipeline(steps=((&#x27;imputer&#x27;,\n",
       "                                                  SimpleImputer(strategy=&#x27;median&#x27;)),\n",
       "                                                 (&#x27;scaler&#x27;, StandardScaler()))),\n",
       "                                 [&#x27;Age&#x27;, &#x27;Flight Distance&#x27;,\n",
       "                                  &#x27;Departure Delay in Minutes&#x27;,\n",
       "                                  &#x27;Arrival Delay in Minutes&#x27;]),\n",
       "                                (&#x27;notes&#x27;, &#x27;passthrough&#x27;,\n",
       "                                 [&#x27;Seat comfort&#x27;,\n",
       "                                  &#x27;Departure/Arrival time convenient&#x27;,\n",
       "                                  &#x27;Food and drink&#x27;, &#x27;Gate location&#x27;,\n",
       "                                  &#x27;Inflight wifi service&#x27;,\n",
       "                                  &#x27;Inflight entertainment&#x27;, &#x27;Online support&#x27;,\n",
       "                                  &#x27;Ease of Online booking&#x27;, &#x27;On-board service&#x27;,\n",
       "                                  &#x27;Leg room service&#x27;, &#x27;Baggage handling&#x27;,\n",
       "                                  &#x27;Checkin service&#x27;, &#x27;Cleanliness&#x27;,\n",
       "                                  &#x27;Online boarding&#x27;])])</pre></div></div></div><div class=\"sk-parallel\"><div class=\"sk-parallel-item\"><div class=\"sk-item\"><div class=\"sk-label-container\"><div class=\"sk-label sk-toggleable\"><input class=\"sk-toggleable__control sk-hidden--visually\" id=\"sk-estimator-id-3\" type=\"checkbox\" ><label for=\"sk-estimator-id-3\" class=\"sk-toggleable__label sk-toggleable__label-arrow\">cat</label><div class=\"sk-toggleable__content\"><pre>Index([&#x27;Gender&#x27;, &#x27;Customer Type&#x27;, &#x27;Type of Travel&#x27;, &#x27;Class&#x27;], dtype=&#x27;object&#x27;)</pre></div></div></div><div class=\"sk-serial\"><div class=\"sk-item\"><div class=\"sk-estimator sk-toggleable\"><input class=\"sk-toggleable__control sk-hidden--visually\" id=\"sk-estimator-id-4\" type=\"checkbox\" ><label for=\"sk-estimator-id-4\" class=\"sk-toggleable__label sk-toggleable__label-arrow\">OneHotEncoder</label><div class=\"sk-toggleable__content\"><pre>OneHotEncoder()</pre></div></div></div></div></div></div><div class=\"sk-parallel-item\"><div class=\"sk-item\"><div class=\"sk-label-container\"><div class=\"sk-label sk-toggleable\"><input class=\"sk-toggleable__control sk-hidden--visually\" id=\"sk-estimator-id-5\" type=\"checkbox\" ><label for=\"sk-estimator-id-5\" class=\"sk-toggleable__label sk-toggleable__label-arrow\">num</label><div class=\"sk-toggleable__content\"><pre>[&#x27;Age&#x27;, &#x27;Flight Distance&#x27;, &#x27;Departure Delay in Minutes&#x27;, &#x27;Arrival Delay in Minutes&#x27;]</pre></div></div></div><div class=\"sk-serial\"><div class=\"sk-item\"><div class=\"sk-serial\"><div class=\"sk-item\"><div class=\"sk-estimator sk-toggleable\"><input class=\"sk-toggleable__control sk-hidden--visually\" id=\"sk-estimator-id-6\" type=\"checkbox\" ><label for=\"sk-estimator-id-6\" class=\"sk-toggleable__label sk-toggleable__label-arrow\">SimpleImputer</label><div class=\"sk-toggleable__content\"><pre>SimpleImputer(strategy=&#x27;median&#x27;)</pre></div></div></div><div class=\"sk-item\"><div class=\"sk-estimator sk-toggleable\"><input class=\"sk-toggleable__control sk-hidden--visually\" id=\"sk-estimator-id-7\" type=\"checkbox\" ><label for=\"sk-estimator-id-7\" class=\"sk-toggleable__label sk-toggleable__label-arrow\">StandardScaler</label><div class=\"sk-toggleable__content\"><pre>StandardScaler()</pre></div></div></div></div></div></div></div></div><div class=\"sk-parallel-item\"><div class=\"sk-item\"><div class=\"sk-label-container\"><div class=\"sk-label sk-toggleable\"><input class=\"sk-toggleable__control sk-hidden--visually\" id=\"sk-estimator-id-8\" type=\"checkbox\" ><label for=\"sk-estimator-id-8\" class=\"sk-toggleable__label sk-toggleable__label-arrow\">notes</label><div class=\"sk-toggleable__content\"><pre>[&#x27;Seat comfort&#x27;, &#x27;Departure/Arrival time convenient&#x27;, &#x27;Food and drink&#x27;, &#x27;Gate location&#x27;, &#x27;Inflight wifi service&#x27;, &#x27;Inflight entertainment&#x27;, &#x27;Online support&#x27;, &#x27;Ease of Online booking&#x27;, &#x27;On-board service&#x27;, &#x27;Leg room service&#x27;, &#x27;Baggage handling&#x27;, &#x27;Checkin service&#x27;, &#x27;Cleanliness&#x27;, &#x27;Online boarding&#x27;]</pre></div></div></div><div class=\"sk-serial\"><div class=\"sk-item\"><div class=\"sk-estimator sk-toggleable\"><input class=\"sk-toggleable__control sk-hidden--visually\" id=\"sk-estimator-id-9\" type=\"checkbox\" ><label for=\"sk-estimator-id-9\" class=\"sk-toggleable__label sk-toggleable__label-arrow\">passthrough</label><div class=\"sk-toggleable__content\"><pre>passthrough</pre></div></div></div></div></div></div></div></div><div class=\"sk-item\"><div class=\"sk-estimator sk-toggleable\"><input class=\"sk-toggleable__control sk-hidden--visually\" id=\"sk-estimator-id-10\" type=\"checkbox\" ><label for=\"sk-estimator-id-10\" class=\"sk-toggleable__label sk-toggleable__label-arrow\">RandomForestClassifier</label><div class=\"sk-toggleable__content\"><pre>RandomForestClassifier()</pre></div></div></div></div></div></div></div>"
      ],
      "text/plain": [
       "Pipeline(steps=(('preparation',\n",
       "                 ColumnTransformer(transformers=[('cat', OneHotEncoder(),\n",
       "                                                  Index(['Gender', 'Customer Type', 'Type of Travel', 'Class'], dtype='object')),\n",
       "                                                 ('num',\n",
       "                                                  Pipeline(steps=(('imputer',\n",
       "                                                                   SimpleImputer(strategy='median')),\n",
       "                                                                  ('scaler',\n",
       "                                                                   StandardScaler()))),\n",
       "                                                  ['Age', 'Flight Distance',\n",
       "                                                   'Departure Delay in Minutes',\n",
       "                                                   'Arrival Delay in Minutes']),\n",
       "                                                 ('notes', 'passthrough',\n",
       "                                                  ['Seat comfort',\n",
       "                                                   'Departure/Arrival time '\n",
       "                                                   'convenient',\n",
       "                                                   'Food and drink',\n",
       "                                                   'Gate location',\n",
       "                                                   'Inflight wifi service',\n",
       "                                                   'Inflight entertainment',\n",
       "                                                   'Online support',\n",
       "                                                   'Ease of Online booking',\n",
       "                                                   'On-board service',\n",
       "                                                   'Leg room service',\n",
       "                                                   'Baggage handling',\n",
       "                                                   'Checkin service',\n",
       "                                                   'Cleanliness',\n",
       "                                                   'Online boarding'])])),\n",
       "                ('model', RandomForestClassifier())))"
      ]
     },
     "execution_count": 5,
     "metadata": {},
     "output_type": "execute_result"
    }
   ],
   "source": [
    "col_trans = ColumnTransformer(\n",
    "    [\n",
    "        ('cat', pipe_cat, columns_cat),\n",
    "        ('num', pipe_num, columns_num),\n",
    "        ('notes', 'passthrough', columns_note)\n",
    "    ]\n",
    ")\n",
    "\n",
    "pipeline = Pipeline(\n",
    "    (\n",
    "        ('preparation', col_trans),\n",
    "        ('model', RandomForestClassifier())\n",
    "    )\n",
    ")\n",
    "\n",
    "set_config(display='diagram')\n",
    "pipeline"
   ]
  },
  {
   "cell_type": "code",
   "execution_count": 6,
   "metadata": {},
   "outputs": [
    {
     "data": {
      "text/plain": [
       "0.9580381890976286"
      ]
     },
     "execution_count": 6,
     "metadata": {},
     "output_type": "execute_result"
    }
   ],
   "source": [
    "X_train, X_test, y_train, y_test = train_test_split(X, y, train_size=0.8, stratify=y)\n",
    "\n",
    "pipeline.fit(X_train, y_train)\n",
    "\n",
    "prediction = pipeline.predict(X_test)\n",
    "\n",
    "score = accuracy_score(y_test, prediction)\n",
    "\n",
    "score"
   ]
  },
  {
   "attachments": {},
   "cell_type": "markdown",
   "metadata": {},
   "source": [
    "# GridSearch"
   ]
  },
  {
   "cell_type": "code",
   "execution_count": 8,
   "metadata": {},
   "outputs": [
    {
     "name": "stdout",
     "output_type": "stream",
     "text": [
      "Fitting 5 folds for each of 15 candidates, totalling 75 fits\n",
      "0.9587984887913319\n",
      "{'model': RandomForestClassifier(criterion='log_loss', n_estimators=200), 'model__criterion': 'log_loss', 'model__n_estimators': 200}\n",
      "Fitting 5 folds for each of 8 candidates, totalling 40 fits\n",
      "0.928039333979237\n",
      "{'model': KNeighborsClassifier(n_neighbors=10, weights='distance'), 'model__n_neighbors': 10, 'model__weights': 'distance'}\n",
      "Fitting 5 folds for each of 30 candidates, totalling 150 fits\n"
     ]
    },
    {
     "name": "stderr",
     "output_type": "stream",
     "text": [
      "c:\\Users\\adri1\\Documents\\Python_Projects\\Sentiment_analysis_Adrien\\venv\\Lib\\site-packages\\sklearn\\linear_model\\_logistic.py:458: ConvergenceWarning: lbfgs failed to converge (status=1):\n",
      "STOP: TOTAL NO. of ITERATIONS REACHED LIMIT.\n",
      "\n",
      "Increase the number of iterations (max_iter) or scale the data as shown in:\n",
      "    https://scikit-learn.org/stable/modules/preprocessing.html\n",
      "Please also refer to the documentation for alternative solver options:\n",
      "    https://scikit-learn.org/stable/modules/linear_model.html#logistic-regression\n",
      "  n_iter_i = _check_optimize_result(\n"
     ]
    },
    {
     "name": "stdout",
     "output_type": "stream",
     "text": [
      "0.8348475371673587\n",
      "{'model': LogisticRegression(max_iter=50), 'model__max_iter': 50, 'model__solver': 'lbfgs'}\n"
     ]
    }
   ],
   "source": [
    "list_tests = {\n",
    "    'RandomForestClassifier':   [\n",
    "            {\n",
    "                'model':                (RandomForestClassifier(),),\n",
    "                'model__n_estimators':  [10, 50, 100, 150, 200],\n",
    "                'model__criterion':     [\"gini\", \"entropy\", \"log_loss\"]\n",
    "            }\n",
    "        ],\n",
    "\n",
    "    'KNeighborsClassifier':   [\n",
    "            {\n",
    "                'model':                (KNeighborsClassifier(),),\n",
    "                'model__n_neighbors':   [3, 5, 7, 10],\n",
    "                'model__weights':       [\"uniform\", \"distance\"]\n",
    "            }\n",
    "        ],\n",
    "\n",
    "    'LogisticRegression':   [\n",
    "            {\n",
    "                'model':                (LogisticRegression(),),\n",
    "                'model__max_iter':      [20, 50, 100, 150, 200],\n",
    "                'model__solver':       [\"lbfgs\", \"liblinear\", \"newton-cg\", \"newton-cholesky\", \"sag\", \"saga\"]\n",
    "            }\n",
    "        ],\n",
    "}\n",
    "\n",
    "metrics = [\"accuracy\", \"precision\", \"recall\", \"roc_auc\"]\n",
    "\n",
    "for name, param_gridSearch in list_tests.items():\n",
    "    gs = GridSearchCV(pipeline, param_gridSearch,\n",
    "                    #scoring = metrics, refit = 'recall',\n",
    "                    cv = 5, n_jobs = -1, verbose = 1)\n",
    "\n",
    "    gs.fit(X_train, y_train)\n",
    "\n",
    "    print(gs.best_score_)\n",
    "    print(gs.best_params_)\n",
    "\n",
    "    pred = gs.predict(X_test)\n",
    "\n",
    "    cm = confusion_matrix(y_test, pred)\n",
    "\n",
    "    pickle.dump(gs, open(join(\"models\", name + \".mdl\"), 'wb'))\n",
    "    pickle.dump(cm, open(join(\"confusion_matrix\", name + \".cm\"), 'wb'))"
   ]
  },
  {
   "cell_type": "markdown",
   "metadata": {},
   "source": [
    "forest = gs.best_estimator_.named_steps['model']\n",
    "feature_names = gs.best_estimator_.named_steps['preparation'].get_feature_names_out()\n",
    "\n",
    "feature_importance = pd.Series({feature_names[i] : forest.feature_importances_[i] for i in range(len(forest.feature_importances_))})\n",
    "\n",
    "feature_importance.sort_values(ascending=False)"
   ]
  }
 ],
 "metadata": {
  "kernelspec": {
   "display_name": "venv",
   "language": "python",
   "name": "python3"
  },
  "language_info": {
   "codemirror_mode": {
    "name": "ipython",
    "version": 3
   },
   "file_extension": ".py",
   "mimetype": "text/x-python",
   "name": "python",
   "nbconvert_exporter": "python",
   "pygments_lexer": "ipython3",
   "version": "3.11.1"
  },
  "orig_nbformat": 4
 },
 "nbformat": 4,
 "nbformat_minor": 2
}
